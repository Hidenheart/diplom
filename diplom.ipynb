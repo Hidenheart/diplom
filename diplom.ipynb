{
 "metadata": {
  "name": "",
  "signature": "sha256:7b7e36e44ac60b93200f214f8298c443e199244b1315fc10c2423b34ccc339f9"
 },
 "nbformat": 3,
 "nbformat_minor": 0,
 "worksheets": [
  {
   "cells": [
    {
     "cell_type": "code",
     "collapsed": false,
     "input": [
      "from elasticsearch import Elasticsearch\n",
      "\n",
      "es = Elasticsearch()"
     ],
     "language": "python",
     "metadata": {},
     "outputs": [],
     "prompt_number": 1
    },
    {
     "cell_type": "code",
     "collapsed": false,
     "input": [
      "body = {\n",
      "    \"mappings\" : {\n",
      "        \"properties\" : {\n",
      "            \"date\" : { \"type\" : \"date\", \"format\":\"epoch_second\" },\n",
      "            \"geo\" : { \"type\" : \"geo_point\" },\n",
      "            \n",
      "        }\n",
      "    }\n",
      "}"
     ],
     "language": "python",
     "metadata": {},
     "outputs": [],
     "prompt_number": 2
    },
    {
     "cell_type": "code",
     "collapsed": false,
     "input": [
      "es.indices.delete(index='vkphoto', ignore=[400, 404])\n",
      "\n",
      "es.indices.create(index='vkphoto', body=body)"
     ],
     "language": "python",
     "metadata": {},
     "outputs": [
      {
       "metadata": {},
       "output_type": "pyout",
       "prompt_number": 20,
       "text": [
        "{'acknowledged': True, 'index': 'vkphoto', 'shards_acknowledged': True}"
       ]
      }
     ],
     "prompt_number": 20
    },
    {
     "cell_type": "code",
     "collapsed": false,
     "input": [],
     "language": "python",
     "metadata": {},
     "outputs": [],
     "prompt_number": 13
    },
    {
     "cell_type": "code",
     "collapsed": false,
     "input": [],
     "language": "python",
     "metadata": {},
     "outputs": []
    },
    {
     "cell_type": "code",
     "collapsed": false,
     "input": [
      "es.index('testindex', doc_type='test', id=2, body={'id':2, 'text':'dbdjbvjvd', 'user_id':'1'})\n"
     ],
     "language": "python",
     "metadata": {},
     "outputs": [
      {
       "metadata": {},
       "output_type": "pyout",
       "prompt_number": 21,
       "text": [
        "{'_seq_no': 9,\n",
        " '_primary_term': 1,\n",
        " '_id': '2',\n",
        " 'result': 'updated',\n",
        " '_version': 9,\n",
        " '_index': 'testindex',\n",
        " '_type': 'test',\n",
        " '_shards': {'failed': 0, 'total': 2, 'successful': 1}}"
       ]
      }
     ],
     "prompt_number": 21
    },
    {
     "cell_type": "code",
     "collapsed": false,
     "input": [
      "import vk_api\n",
      "\n",
      "vk_session = vk_api.VkApi('login', 'password') \n",
      "vk_session.auth()\n",
      "\n",
      "vk = vk_session.get_api() "
     ],
     "language": "python",
     "metadata": {},
     "outputs": [],
     "prompt_number": 22
    },
    {
     "cell_type": "code",
     "collapsed": false,
     "input": [
      "data = vk.photos.getAll(owner_id='id', count='200', offset=200)"
     ],
     "language": "python",
     "metadata": {},
     "outputs": [],
     "prompt_number": 30
    },
    {
     "cell_type": "code",
     "collapsed": false,
     "input": [
      "for ph in data['items']:\n",
      "    if 'sizes' in ph:\n",
      "        url = ph['sizes'][-1]['url']\n",
      "        del ph['sizes']\n",
      "\n",
      "        ph['url'] = url\n",
      "        \n",
      "    if 'lat' in ph and 'long' in ph:\n",
      "        ph['geo'] = str(ph['lat'])+\",\"+str(ph['long'])\n",
      "        \n",
      "        del ph['lat']\n",
      "        del ph['long']\n",
      "        \n",
      "\n",
      "    es.index('vkphoto', id=ph['id'], body=ph)\n"
     ],
     "language": "python",
     "metadata": {},
     "outputs": [],
     "prompt_number": 27
    },
    {
     "cell_type": "code",
     "collapsed": false,
     "input": [
      "data['items'][0]"
     ],
     "language": "python",
     "metadata": {},
     "outputs": [
      {
       "metadata": {},
       "output_type": "pyout",
       "prompt_number": 28,
       "text": [
        "{'id': 456245675,\n",
        " 'url': 'https://pp.userapi.com/c840233/v840233044/50b82/IJVazQCDp2I.jpg',\n",
        " 'album_id': 219494546,\n",
        " 'geo': '37.971224,23.72614',\n",
        " 'owner_id': 5682862,\n",
        " 'date': 1512265476,\n",
        " 'text': ''}"
       ]
      }
     ],
     "prompt_number": 28
    },
    {
     "cell_type": "code",
     "collapsed": false,
     "input": [],
     "language": "python",
     "metadata": {},
     "outputs": [],
     "prompt_number": 91
    },
    {
     "cell_type": "code",
     "collapsed": false,
     "input": [],
     "language": "python",
     "metadata": {},
     "outputs": [],
     "prompt_number": 91
    },
    {
     "cell_type": "code",
     "collapsed": false,
     "input": [],
     "language": "python",
     "metadata": {},
     "outputs": []
    },
    {
     "cell_type": "code",
     "collapsed": false,
     "input": [],
     "language": "python",
     "metadata": {},
     "outputs": []
    },
    {
     "cell_type": "code",
     "collapsed": false,
     "input": [],
     "language": "python",
     "metadata": {},
     "outputs": []
    },
    {
     "cell_type": "code",
     "collapsed": false,
     "input": [],
     "language": "python",
     "metadata": {},
     "outputs": []
    },
    {
     "cell_type": "code",
     "collapsed": false,
     "input": [],
     "language": "python",
     "metadata": {},
     "outputs": []
    },
    {
     "cell_type": "code",
     "collapsed": false,
     "input": [],
     "language": "python",
     "metadata": {},
     "outputs": []
    }
   ],
   "metadata": {}
  }
 ]
}
